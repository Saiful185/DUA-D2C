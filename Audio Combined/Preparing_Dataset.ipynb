{
  "cells": [
    {
      "cell_type": "markdown",
      "metadata": {
        "id": "GXyHwhOvKWtn"
      },
      "source": [
        "# **Prepearing the Combined Audio Dataset for DUA-D2C**"
      ]
    },
    {
      "cell_type": "code",
      "source": [
        "from google.colab import drive\n",
        "drive.mount('/content/drive')"
      ],
      "metadata": {
        "colab": {
          "base_uri": "https://localhost:8080/"
        },
        "id": "CSJPAAdZPXTr",
        "outputId": "8f643eb9-d52c-44dd-b2b6-f1cd03f2314e"
      },
      "execution_count": null,
      "outputs": [
        {
          "output_type": "stream",
          "name": "stdout",
          "text": [
            "Mounted at /content/drive\n"
          ]
        }
      ]
    },
    {
      "cell_type": "code",
      "execution_count": null,
      "metadata": {
        "_cell_guid": "b1076dfc-b9ad-4769-8c92-a6c4dae69d19",
        "_uuid": "8f2839f25d086af736a60e9eeb907d3b93b6e0e5",
        "id": "UjM82QmkKWtp"
      },
      "outputs": [],
      "source": [
        "# Import libraries\n",
        "import librosa\n",
        "import librosa.display\n",
        "import numpy as np\n",
        "import matplotlib.pyplot as plt\n",
        "import tensorflow as tf\n",
        "from matplotlib.pyplot import specgram\n",
        "import pandas as pd\n",
        "import glob\n",
        "from sklearn.metrics import confusion_matrix\n",
        "import IPython.display as ipd  # To play sound in the notebook\n",
        "import os\n",
        "import sys\n",
        "import warnings\n",
        "# ignore warnings\n",
        "if not sys.warnoptions:\n",
        "    warnings.simplefilter(\"ignore\")\n",
        "warnings.filterwarnings(\"ignore\", category=DeprecationWarning)\n",
        "\n",
        "sys.path.append('/content/drive/MyDrive/IAR Research Grant/Codes/Audio Classification Codes')"
      ]
    },
    {
      "cell_type": "markdown",
      "metadata": {
        "id": "bPOZu5DPKWtp"
      },
      "source": [
        "# Importing the Datasets"
      ]
    },
    {
      "cell_type": "code",
      "execution_count": null,
      "metadata": {
        "colab": {
          "base_uri": "https://localhost:8080/"
        },
        "id": "zT7QfgNrKWtq",
        "outputId": "89d458ac-3211-41c0-d482-0c676ae549e9"
      },
      "outputs": [
        {
          "output_type": "execute_result",
          "data": {
            "text/plain": [
              "['Actor_19', 'Actor_18', 'Actor_21', 'Actor_20', 'Actor_24']"
            ]
          },
          "metadata": {},
          "execution_count": 3
        }
      ],
      "source": [
        "TESS = \"/content/drive/MyDrive/IAR Research Grant/Data/Audio Datasets/TESS.zip (Unzipped Files)/tess toronto emotional speech set data/TESS Toronto emotional speech set data/\"\n",
        "RAV = \"/content/drive/MyDrive/IAR Research Grant/Data/Audio Datasets/RAVDESS Audio Emotion/\"\n",
        "CREMA = \"/content/drive/MyDrive/IAR Research Grant/Data/Audio Datasets/CREMA-D/\"\n",
        "\n",
        "# Running an example\n",
        "dir_list = os.listdir(RAV)\n",
        "dir_list[0:5]"
      ]
    },
    {
      "cell_type": "markdown",
      "metadata": {
        "id": "iCriuJTMKWtr"
      },
      "source": [
        "<a id=\"ravdess\"></a>\n",
        "## <center>1. RAVDESS dataset</center>"
      ]
    },
    {
      "cell_type": "code",
      "execution_count": null,
      "metadata": {
        "colab": {
          "base_uri": "https://localhost:8080/"
        },
        "id": "iQ0FyI9vKWts",
        "outputId": "070cad0a-d8ab-4d27-c071-d0aced09dc73"
      },
      "outputs": [
        {
          "output_type": "execute_result",
          "data": {
            "text/plain": [
              "male_neutral       144\n",
              "female_neutral     144\n",
              "male_happy          96\n",
              "male_sad            96\n",
              "male_angry          96\n",
              "male_surprise       96\n",
              "male_fear           96\n",
              "male_disgust        96\n",
              "female_angry        96\n",
              "female_happy        96\n",
              "female_fear         96\n",
              "female_sad          96\n",
              "female_disgust      96\n",
              "female_surprise     96\n",
              "Name: labels, dtype: int64"
            ]
          },
          "metadata": {},
          "execution_count": 5
        }
      ],
      "source": [
        "dir_list = os.listdir(RAV)\n",
        "dir_list.sort()\n",
        "\n",
        "emotion = []\n",
        "gender = []\n",
        "path = []\n",
        "for i in dir_list:\n",
        "    fname = os.listdir(RAV + i)\n",
        "    for f in fname:\n",
        "        part = f.split('.')[0].split('-')\n",
        "        emotion.append(int(part[2]))\n",
        "        temp = int(part[6])\n",
        "        if temp%2 == 0:\n",
        "            temp = \"female\"\n",
        "        else:\n",
        "            temp = \"male\"\n",
        "        gender.append(temp)\n",
        "        path.append(RAV + i + '/' + f)\n",
        "\n",
        "\n",
        "RAV_df = pd.DataFrame(emotion)\n",
        "RAV_df = RAV_df.replace({1:'neutral', 2:'neutral', 3:'happy', 4:'sad', 5:'angry', 6:'fear', 7:'disgust', 8:'surprise'})\n",
        "RAV_df = pd.concat([pd.DataFrame(gender),RAV_df],axis=1)\n",
        "RAV_df.columns = ['gender','emotion']\n",
        "RAV_df['labels'] =RAV_df.gender + '_' + RAV_df.emotion\n",
        "RAV_df['source'] = 'RAVDESS'\n",
        "RAV_df = pd.concat([RAV_df,pd.DataFrame(path, columns = ['path'])],axis=1)\n",
        "RAV_df = RAV_df.drop(['gender', 'emotion'], axis=1)\n",
        "RAV_df.labels.value_counts()"
      ]
    },
    {
      "cell_type": "markdown",
      "metadata": {
        "id": "Rdqs8s_cKWts"
      },
      "source": [
        "<a id=\"tess\"></a>\n",
        "##  <center> 2. TESS dataset <center>"
      ]
    },
    {
      "cell_type": "code",
      "execution_count": null,
      "metadata": {
        "colab": {
          "base_uri": "https://localhost:8080/"
        },
        "id": "w8dAilGQKWtt",
        "outputId": "5e088e5d-dbce-4def-d487-52fcc20ae53c"
      },
      "outputs": [
        {
          "output_type": "execute_result",
          "data": {
            "text/plain": [
              "['OAF_Fear',\n",
              " 'OAF_Pleasant_surprise',\n",
              " 'OAF_Sad',\n",
              " 'OAF_angry',\n",
              " 'OAF_disgust',\n",
              " 'OAF_happy',\n",
              " 'OAF_neutral',\n",
              " 'YAF_angry',\n",
              " 'YAF_disgust',\n",
              " 'YAF_fear',\n",
              " 'YAF_happy',\n",
              " 'YAF_neutral',\n",
              " 'YAF_pleasant_surprised',\n",
              " 'YAF_sad']"
            ]
          },
          "metadata": {},
          "execution_count": 6
        }
      ],
      "source": [
        "dir_list = os.listdir(TESS)\n",
        "dir_list.sort()\n",
        "dir_list"
      ]
    },
    {
      "cell_type": "code",
      "execution_count": null,
      "metadata": {
        "colab": {
          "base_uri": "https://localhost:8080/"
        },
        "id": "R_70HjdSKWtt",
        "outputId": "493ef6f6-a6c1-4be6-c521-9679192f8174"
      },
      "outputs": [
        {
          "output_type": "execute_result",
          "data": {
            "text/plain": [
              "female_fear        400\n",
              "female_surprise    400\n",
              "female_sad         400\n",
              "female_angry       400\n",
              "female_disgust     400\n",
              "female_happy       400\n",
              "female_neutral     400\n",
              "Name: labels, dtype: int64"
            ]
          },
          "metadata": {},
          "execution_count": 7
        }
      ],
      "source": [
        "path = []\n",
        "emotion = []\n",
        "\n",
        "for i in dir_list:\n",
        "    fname = os.listdir(TESS + i)\n",
        "    for f in fname:\n",
        "        if i == 'OAF_angry' or i == 'YAF_angry':\n",
        "            emotion.append('female_angry')\n",
        "        elif i == 'OAF_disgust' or i == 'YAF_disgust':\n",
        "            emotion.append('female_disgust')\n",
        "        elif i == 'OAF_Fear' or i == 'YAF_fear':\n",
        "            emotion.append('female_fear')\n",
        "        elif i == 'OAF_happy' or i == 'YAF_happy':\n",
        "            emotion.append('female_happy')\n",
        "        elif i == 'OAF_neutral' or i == 'YAF_neutral':\n",
        "            emotion.append('female_neutral')\n",
        "        elif i == 'OAF_Pleasant_surprise' or i == 'YAF_pleasant_surprised':\n",
        "            emotion.append('female_surprise')\n",
        "        elif i == 'OAF_Sad' or i == 'YAF_sad':\n",
        "            emotion.append('female_sad')\n",
        "        else:\n",
        "            emotion.append('Unknown')\n",
        "        path.append(TESS + i + \"/\" + f)\n",
        "\n",
        "TESS_df = pd.DataFrame(emotion, columns = ['labels'])\n",
        "TESS_df['source'] = 'TESS'\n",
        "TESS_df = pd.concat([TESS_df,pd.DataFrame(path, columns = ['path'])],axis=1)\n",
        "TESS_df.labels.value_counts()"
      ]
    },
    {
      "cell_type": "markdown",
      "metadata": {
        "id": "MXb1jxx4KWtt"
      },
      "source": [
        "<a id=\"crema\"></a>\n",
        "##  <center> 3. CREMA-D dataset <center>"
      ]
    },
    {
      "cell_type": "code",
      "execution_count": null,
      "metadata": {
        "colab": {
          "base_uri": "https://localhost:8080/"
        },
        "id": "avfOf8OrKWtu",
        "outputId": "837e3271-b325-4014-9805-3aae7b088846"
      },
      "outputs": [
        {
          "output_type": "stream",
          "name": "stdout",
          "text": [
            "['1001_DFA_ANG_XX.wav', '1001_DFA_DIS_XX.wav', '1001_DFA_FEA_XX.wav', '1001_DFA_HAP_XX.wav', '1001_DFA_NEU_XX.wav', '1001_DFA_SAD_XX.wav', '1001_IEO_ANG_HI.wav', '1001_IEO_ANG_LO.wav', '1001_IEO_ANG_MD.wav', '1001_IEO_DIS_HI.wav']\n"
          ]
        }
      ],
      "source": [
        "dir_list = os.listdir(CREMA)\n",
        "dir_list.sort()\n",
        "print(dir_list[0:10])"
      ]
    },
    {
      "cell_type": "code",
      "execution_count": null,
      "metadata": {
        "colab": {
          "base_uri": "https://localhost:8080/"
        },
        "id": "iuoZ07S2KWtu",
        "outputId": "0630ee58-38aa-4f36-b722-f0885b06785b"
      },
      "outputs": [
        {
          "output_type": "execute_result",
          "data": {
            "text/plain": [
              "male_angry        671\n",
              "male_disgust      671\n",
              "male_fear         671\n",
              "male_happy        671\n",
              "male_sad          671\n",
              "female_angry      600\n",
              "female_disgust    600\n",
              "female_fear       600\n",
              "female_happy      600\n",
              "female_sad        600\n",
              "male_neutral      575\n",
              "female_neutral    512\n",
              "Name: labels, dtype: int64"
            ]
          },
          "metadata": {},
          "execution_count": 9
        }
      ],
      "source": [
        "gender = []\n",
        "emotion = []\n",
        "path = []\n",
        "female = [1002,1003,1004,1006,1007,1008,1009,1010,1012,1013,1018,1020,1021,1024,1025,1028,1029,1030,1037,1043,1046,1047,1049,\n",
        "          1052,1053,1054,1055,1056,1058,1060,1061,1063,1072,1073,1074,1075,1076,1078,1079,1082,1084,1089,1091]\n",
        "\n",
        "for i in dir_list:\n",
        "    part = i.split('_')\n",
        "    if int(part[0]) in female:\n",
        "        temp = 'female'\n",
        "    else:\n",
        "        temp = 'male'\n",
        "    gender.append(temp)\n",
        "    if part[2] == 'SAD' and temp == 'male':\n",
        "        emotion.append('male_sad')\n",
        "    elif part[2] == 'ANG' and temp == 'male':\n",
        "        emotion.append('male_angry')\n",
        "    elif part[2] == 'DIS' and temp == 'male':\n",
        "        emotion.append('male_disgust')\n",
        "    elif part[2] == 'FEA' and temp == 'male':\n",
        "        emotion.append('male_fear')\n",
        "    elif part[2] == 'HAP' and temp == 'male':\n",
        "        emotion.append('male_happy')\n",
        "    elif part[2] == 'NEU' and temp == 'male':\n",
        "        emotion.append('male_neutral')\n",
        "    elif part[2] == 'SAD' and temp == 'female':\n",
        "        emotion.append('female_sad')\n",
        "    elif part[2] == 'ANG' and temp == 'female':\n",
        "        emotion.append('female_angry')\n",
        "    elif part[2] == 'DIS' and temp == 'female':\n",
        "        emotion.append('female_disgust')\n",
        "    elif part[2] == 'FEA' and temp == 'female':\n",
        "        emotion.append('female_fear')\n",
        "    elif part[2] == 'HAP' and temp == 'female':\n",
        "        emotion.append('female_happy')\n",
        "    elif part[2] == 'NEU' and temp == 'female':\n",
        "        emotion.append('female_neutral')\n",
        "    else:\n",
        "        emotion.append('Unknown')\n",
        "    path.append(CREMA + i)\n",
        "\n",
        "CREMA_df = pd.DataFrame(emotion, columns = ['labels'])\n",
        "CREMA_df['source'] = 'CREMA'\n",
        "CREMA_df = pd.concat([CREMA_df,pd.DataFrame(path, columns = ['path'])],axis=1)\n",
        "CREMA_df.labels.value_counts()"
      ]
    },
    {
      "cell_type": "markdown",
      "source": [
        "# **Combining the Datasets**"
      ],
      "metadata": {
        "id": "f6Pciw20Jw_6"
      }
    },
    {
      "cell_type": "code",
      "source": [
        "df = pd.concat([RAV_df, TESS_df, CREMA_df], axis = 0).reset_index(drop=True)\n",
        "print(df.labels.value_counts())\n",
        "df.head()\n",
        "df.to_csv(\"/content/drive/MyDrive/IAR Research Grant/Codes/Audio Classification Codes/Data_path_short.csv\",index=False)"
      ],
      "metadata": {
        "colab": {
          "base_uri": "https://localhost:8080/"
        },
        "id": "Mx0_e-xmQN7M",
        "outputId": "0cd9c3a0-0b52-4f6e-c707-a30e935cd8b7"
      },
      "execution_count": null,
      "outputs": [
        {
          "output_type": "stream",
          "name": "stdout",
          "text": [
            "female_angry       1096\n",
            "female_happy       1096\n",
            "female_fear        1096\n",
            "female_sad         1096\n",
            "female_disgust     1096\n",
            "female_neutral     1056\n",
            "male_happy          767\n",
            "male_sad            767\n",
            "male_angry          767\n",
            "male_fear           767\n",
            "male_disgust        767\n",
            "male_neutral        719\n",
            "female_surprise     496\n",
            "male_surprise        96\n",
            "Name: labels, dtype: int64\n"
          ]
        }
      ]
    },
    {
      "cell_type": "code",
      "source": [
        "df"
      ],
      "metadata": {
        "colab": {
          "base_uri": "https://localhost:8080/",
          "height": 423
        },
        "id": "_yFCyYMhQaIw",
        "outputId": "1751dae4-1306-4df4-9fd1-09e5c358964b"
      },
      "execution_count": null,
      "outputs": [
        {
          "output_type": "execute_result",
          "data": {
            "text/plain": [
              "               labels   source  \\\n",
              "0        male_neutral  RAVDESS   \n",
              "1        male_neutral  RAVDESS   \n",
              "2        male_neutral  RAVDESS   \n",
              "3        male_neutral  RAVDESS   \n",
              "4        male_neutral  RAVDESS   \n",
              "...               ...      ...   \n",
              "11677  female_disgust    CREMA   \n",
              "11678     female_fear    CREMA   \n",
              "11679    female_happy    CREMA   \n",
              "11680  female_neutral    CREMA   \n",
              "11681      female_sad    CREMA   \n",
              "\n",
              "                                                    path  \n",
              "0      /content/drive/MyDrive/IAR Research Grant/Data...  \n",
              "1      /content/drive/MyDrive/IAR Research Grant/Data...  \n",
              "2      /content/drive/MyDrive/IAR Research Grant/Data...  \n",
              "3      /content/drive/MyDrive/IAR Research Grant/Data...  \n",
              "4      /content/drive/MyDrive/IAR Research Grant/Data...  \n",
              "...                                                  ...  \n",
              "11677  /content/drive/MyDrive/IAR Research Grant/Data...  \n",
              "11678  /content/drive/MyDrive/IAR Research Grant/Data...  \n",
              "11679  /content/drive/MyDrive/IAR Research Grant/Data...  \n",
              "11680  /content/drive/MyDrive/IAR Research Grant/Data...  \n",
              "11681  /content/drive/MyDrive/IAR Research Grant/Data...  \n",
              "\n",
              "[11682 rows x 3 columns]"
            ],
            "text/html": [
              "\n",
              "  <div id=\"df-f527d3ce-8322-4009-8486-121a93cde859\" class=\"colab-df-container\">\n",
              "    <div>\n",
              "<style scoped>\n",
              "    .dataframe tbody tr th:only-of-type {\n",
              "        vertical-align: middle;\n",
              "    }\n",
              "\n",
              "    .dataframe tbody tr th {\n",
              "        vertical-align: top;\n",
              "    }\n",
              "\n",
              "    .dataframe thead th {\n",
              "        text-align: right;\n",
              "    }\n",
              "</style>\n",
              "<table border=\"1\" class=\"dataframe\">\n",
              "  <thead>\n",
              "    <tr style=\"text-align: right;\">\n",
              "      <th></th>\n",
              "      <th>labels</th>\n",
              "      <th>source</th>\n",
              "      <th>path</th>\n",
              "    </tr>\n",
              "  </thead>\n",
              "  <tbody>\n",
              "    <tr>\n",
              "      <th>0</th>\n",
              "      <td>male_neutral</td>\n",
              "      <td>RAVDESS</td>\n",
              "      <td>/content/drive/MyDrive/IAR Research Grant/Data...</td>\n",
              "    </tr>\n",
              "    <tr>\n",
              "      <th>1</th>\n",
              "      <td>male_neutral</td>\n",
              "      <td>RAVDESS</td>\n",
              "      <td>/content/drive/MyDrive/IAR Research Grant/Data...</td>\n",
              "    </tr>\n",
              "    <tr>\n",
              "      <th>2</th>\n",
              "      <td>male_neutral</td>\n",
              "      <td>RAVDESS</td>\n",
              "      <td>/content/drive/MyDrive/IAR Research Grant/Data...</td>\n",
              "    </tr>\n",
              "    <tr>\n",
              "      <th>3</th>\n",
              "      <td>male_neutral</td>\n",
              "      <td>RAVDESS</td>\n",
              "      <td>/content/drive/MyDrive/IAR Research Grant/Data...</td>\n",
              "    </tr>\n",
              "    <tr>\n",
              "      <th>4</th>\n",
              "      <td>male_neutral</td>\n",
              "      <td>RAVDESS</td>\n",
              "      <td>/content/drive/MyDrive/IAR Research Grant/Data...</td>\n",
              "    </tr>\n",
              "    <tr>\n",
              "      <th>...</th>\n",
              "      <td>...</td>\n",
              "      <td>...</td>\n",
              "      <td>...</td>\n",
              "    </tr>\n",
              "    <tr>\n",
              "      <th>11677</th>\n",
              "      <td>female_disgust</td>\n",
              "      <td>CREMA</td>\n",
              "      <td>/content/drive/MyDrive/IAR Research Grant/Data...</td>\n",
              "    </tr>\n",
              "    <tr>\n",
              "      <th>11678</th>\n",
              "      <td>female_fear</td>\n",
              "      <td>CREMA</td>\n",
              "      <td>/content/drive/MyDrive/IAR Research Grant/Data...</td>\n",
              "    </tr>\n",
              "    <tr>\n",
              "      <th>11679</th>\n",
              "      <td>female_happy</td>\n",
              "      <td>CREMA</td>\n",
              "      <td>/content/drive/MyDrive/IAR Research Grant/Data...</td>\n",
              "    </tr>\n",
              "    <tr>\n",
              "      <th>11680</th>\n",
              "      <td>female_neutral</td>\n",
              "      <td>CREMA</td>\n",
              "      <td>/content/drive/MyDrive/IAR Research Grant/Data...</td>\n",
              "    </tr>\n",
              "    <tr>\n",
              "      <th>11681</th>\n",
              "      <td>female_sad</td>\n",
              "      <td>CREMA</td>\n",
              "      <td>/content/drive/MyDrive/IAR Research Grant/Data...</td>\n",
              "    </tr>\n",
              "  </tbody>\n",
              "</table>\n",
              "<p>11682 rows × 3 columns</p>\n",
              "</div>\n",
              "    <div class=\"colab-df-buttons\">\n",
              "\n",
              "  <div class=\"colab-df-container\">\n",
              "    <button class=\"colab-df-convert\" onclick=\"convertToInteractive('df-f527d3ce-8322-4009-8486-121a93cde859')\"\n",
              "            title=\"Convert this dataframe to an interactive table.\"\n",
              "            style=\"display:none;\">\n",
              "\n",
              "  <svg xmlns=\"http://www.w3.org/2000/svg\" height=\"24px\" viewBox=\"0 -960 960 960\">\n",
              "    <path d=\"M120-120v-720h720v720H120Zm60-500h600v-160H180v160Zm220 220h160v-160H400v160Zm0 220h160v-160H400v160ZM180-400h160v-160H180v160Zm440 0h160v-160H620v160ZM180-180h160v-160H180v160Zm440 0h160v-160H620v160Z\"/>\n",
              "  </svg>\n",
              "    </button>\n",
              "\n",
              "  <style>\n",
              "    .colab-df-container {\n",
              "      display:flex;\n",
              "      gap: 12px;\n",
              "    }\n",
              "\n",
              "    .colab-df-convert {\n",
              "      background-color: #E8F0FE;\n",
              "      border: none;\n",
              "      border-radius: 50%;\n",
              "      cursor: pointer;\n",
              "      display: none;\n",
              "      fill: #1967D2;\n",
              "      height: 32px;\n",
              "      padding: 0 0 0 0;\n",
              "      width: 32px;\n",
              "    }\n",
              "\n",
              "    .colab-df-convert:hover {\n",
              "      background-color: #E2EBFA;\n",
              "      box-shadow: 0px 1px 2px rgba(60, 64, 67, 0.3), 0px 1px 3px 1px rgba(60, 64, 67, 0.15);\n",
              "      fill: #174EA6;\n",
              "    }\n",
              "\n",
              "    .colab-df-buttons div {\n",
              "      margin-bottom: 4px;\n",
              "    }\n",
              "\n",
              "    [theme=dark] .colab-df-convert {\n",
              "      background-color: #3B4455;\n",
              "      fill: #D2E3FC;\n",
              "    }\n",
              "\n",
              "    [theme=dark] .colab-df-convert:hover {\n",
              "      background-color: #434B5C;\n",
              "      box-shadow: 0px 1px 3px 1px rgba(0, 0, 0, 0.15);\n",
              "      filter: drop-shadow(0px 1px 2px rgba(0, 0, 0, 0.3));\n",
              "      fill: #FFFFFF;\n",
              "    }\n",
              "  </style>\n",
              "\n",
              "    <script>\n",
              "      const buttonEl =\n",
              "        document.querySelector('#df-f527d3ce-8322-4009-8486-121a93cde859 button.colab-df-convert');\n",
              "      buttonEl.style.display =\n",
              "        google.colab.kernel.accessAllowed ? 'block' : 'none';\n",
              "\n",
              "      async function convertToInteractive(key) {\n",
              "        const element = document.querySelector('#df-f527d3ce-8322-4009-8486-121a93cde859');\n",
              "        const dataTable =\n",
              "          await google.colab.kernel.invokeFunction('convertToInteractive',\n",
              "                                                    [key], {});\n",
              "        if (!dataTable) return;\n",
              "\n",
              "        const docLinkHtml = 'Like what you see? Visit the ' +\n",
              "          '<a target=\"_blank\" href=https://colab.research.google.com/notebooks/data_table.ipynb>data table notebook</a>'\n",
              "          + ' to learn more about interactive tables.';\n",
              "        element.innerHTML = '';\n",
              "        dataTable['output_type'] = 'display_data';\n",
              "        await google.colab.output.renderOutput(dataTable, element);\n",
              "        const docLink = document.createElement('div');\n",
              "        docLink.innerHTML = docLinkHtml;\n",
              "        element.appendChild(docLink);\n",
              "      }\n",
              "    </script>\n",
              "  </div>\n",
              "\n",
              "\n",
              "<div id=\"df-224394f2-fc43-4f2b-9306-2a9c8ce01ac2\">\n",
              "  <button class=\"colab-df-quickchart\" onclick=\"quickchart('df-224394f2-fc43-4f2b-9306-2a9c8ce01ac2')\"\n",
              "            title=\"Suggest charts\"\n",
              "            style=\"display:none;\">\n",
              "\n",
              "<svg xmlns=\"http://www.w3.org/2000/svg\" height=\"24px\"viewBox=\"0 0 24 24\"\n",
              "     width=\"24px\">\n",
              "    <g>\n",
              "        <path d=\"M19 3H5c-1.1 0-2 .9-2 2v14c0 1.1.9 2 2 2h14c1.1 0 2-.9 2-2V5c0-1.1-.9-2-2-2zM9 17H7v-7h2v7zm4 0h-2V7h2v10zm4 0h-2v-4h2v4z\"/>\n",
              "    </g>\n",
              "</svg>\n",
              "  </button>\n",
              "\n",
              "<style>\n",
              "  .colab-df-quickchart {\n",
              "      --bg-color: #E8F0FE;\n",
              "      --fill-color: #1967D2;\n",
              "      --hover-bg-color: #E2EBFA;\n",
              "      --hover-fill-color: #174EA6;\n",
              "      --disabled-fill-color: #AAA;\n",
              "      --disabled-bg-color: #DDD;\n",
              "  }\n",
              "\n",
              "  [theme=dark] .colab-df-quickchart {\n",
              "      --bg-color: #3B4455;\n",
              "      --fill-color: #D2E3FC;\n",
              "      --hover-bg-color: #434B5C;\n",
              "      --hover-fill-color: #FFFFFF;\n",
              "      --disabled-bg-color: #3B4455;\n",
              "      --disabled-fill-color: #666;\n",
              "  }\n",
              "\n",
              "  .colab-df-quickchart {\n",
              "    background-color: var(--bg-color);\n",
              "    border: none;\n",
              "    border-radius: 50%;\n",
              "    cursor: pointer;\n",
              "    display: none;\n",
              "    fill: var(--fill-color);\n",
              "    height: 32px;\n",
              "    padding: 0;\n",
              "    width: 32px;\n",
              "  }\n",
              "\n",
              "  .colab-df-quickchart:hover {\n",
              "    background-color: var(--hover-bg-color);\n",
              "    box-shadow: 0 1px 2px rgba(60, 64, 67, 0.3), 0 1px 3px 1px rgba(60, 64, 67, 0.15);\n",
              "    fill: var(--button-hover-fill-color);\n",
              "  }\n",
              "\n",
              "  .colab-df-quickchart-complete:disabled,\n",
              "  .colab-df-quickchart-complete:disabled:hover {\n",
              "    background-color: var(--disabled-bg-color);\n",
              "    fill: var(--disabled-fill-color);\n",
              "    box-shadow: none;\n",
              "  }\n",
              "\n",
              "  .colab-df-spinner {\n",
              "    border: 2px solid var(--fill-color);\n",
              "    border-color: transparent;\n",
              "    border-bottom-color: var(--fill-color);\n",
              "    animation:\n",
              "      spin 1s steps(1) infinite;\n",
              "  }\n",
              "\n",
              "  @keyframes spin {\n",
              "    0% {\n",
              "      border-color: transparent;\n",
              "      border-bottom-color: var(--fill-color);\n",
              "      border-left-color: var(--fill-color);\n",
              "    }\n",
              "    20% {\n",
              "      border-color: transparent;\n",
              "      border-left-color: var(--fill-color);\n",
              "      border-top-color: var(--fill-color);\n",
              "    }\n",
              "    30% {\n",
              "      border-color: transparent;\n",
              "      border-left-color: var(--fill-color);\n",
              "      border-top-color: var(--fill-color);\n",
              "      border-right-color: var(--fill-color);\n",
              "    }\n",
              "    40% {\n",
              "      border-color: transparent;\n",
              "      border-right-color: var(--fill-color);\n",
              "      border-top-color: var(--fill-color);\n",
              "    }\n",
              "    60% {\n",
              "      border-color: transparent;\n",
              "      border-right-color: var(--fill-color);\n",
              "    }\n",
              "    80% {\n",
              "      border-color: transparent;\n",
              "      border-right-color: var(--fill-color);\n",
              "      border-bottom-color: var(--fill-color);\n",
              "    }\n",
              "    90% {\n",
              "      border-color: transparent;\n",
              "      border-bottom-color: var(--fill-color);\n",
              "    }\n",
              "  }\n",
              "</style>\n",
              "\n",
              "  <script>\n",
              "    async function quickchart(key) {\n",
              "      const quickchartButtonEl =\n",
              "        document.querySelector('#' + key + ' button');\n",
              "      quickchartButtonEl.disabled = true;  // To prevent multiple clicks.\n",
              "      quickchartButtonEl.classList.add('colab-df-spinner');\n",
              "      try {\n",
              "        const charts = await google.colab.kernel.invokeFunction(\n",
              "            'suggestCharts', [key], {});\n",
              "      } catch (error) {\n",
              "        console.error('Error during call to suggestCharts:', error);\n",
              "      }\n",
              "      quickchartButtonEl.classList.remove('colab-df-spinner');\n",
              "      quickchartButtonEl.classList.add('colab-df-quickchart-complete');\n",
              "    }\n",
              "    (() => {\n",
              "      let quickchartButtonEl =\n",
              "        document.querySelector('#df-224394f2-fc43-4f2b-9306-2a9c8ce01ac2 button');\n",
              "      quickchartButtonEl.style.display =\n",
              "        google.colab.kernel.accessAllowed ? 'block' : 'none';\n",
              "    })();\n",
              "  </script>\n",
              "</div>\n",
              "\n",
              "  <div id=\"id_74927f3d-3c61-467b-a55b-979f5bc6cefd\">\n",
              "    <style>\n",
              "      .colab-df-generate {\n",
              "        background-color: #E8F0FE;\n",
              "        border: none;\n",
              "        border-radius: 50%;\n",
              "        cursor: pointer;\n",
              "        display: none;\n",
              "        fill: #1967D2;\n",
              "        height: 32px;\n",
              "        padding: 0 0 0 0;\n",
              "        width: 32px;\n",
              "      }\n",
              "\n",
              "      .colab-df-generate:hover {\n",
              "        background-color: #E2EBFA;\n",
              "        box-shadow: 0px 1px 2px rgba(60, 64, 67, 0.3), 0px 1px 3px 1px rgba(60, 64, 67, 0.15);\n",
              "        fill: #174EA6;\n",
              "      }\n",
              "\n",
              "      [theme=dark] .colab-df-generate {\n",
              "        background-color: #3B4455;\n",
              "        fill: #D2E3FC;\n",
              "      }\n",
              "\n",
              "      [theme=dark] .colab-df-generate:hover {\n",
              "        background-color: #434B5C;\n",
              "        box-shadow: 0px 1px 3px 1px rgba(0, 0, 0, 0.15);\n",
              "        filter: drop-shadow(0px 1px 2px rgba(0, 0, 0, 0.3));\n",
              "        fill: #FFFFFF;\n",
              "      }\n",
              "    </style>\n",
              "    <button class=\"colab-df-generate\" onclick=\"generateWithVariable('df')\"\n",
              "            title=\"Generate code using this dataframe.\"\n",
              "            style=\"display:none;\">\n",
              "\n",
              "  <svg xmlns=\"http://www.w3.org/2000/svg\" height=\"24px\"viewBox=\"0 0 24 24\"\n",
              "       width=\"24px\">\n",
              "    <path d=\"M7,19H8.4L18.45,9,17,7.55,7,17.6ZM5,21V16.75L18.45,3.32a2,2,0,0,1,2.83,0l1.4,1.43a1.91,1.91,0,0,1,.58,1.4,1.91,1.91,0,0,1-.58,1.4L9.25,21ZM18.45,9,17,7.55Zm-12,3A5.31,5.31,0,0,0,4.9,8.1,5.31,5.31,0,0,0,1,6.5,5.31,5.31,0,0,0,4.9,4.9,5.31,5.31,0,0,0,6.5,1,5.31,5.31,0,0,0,8.1,4.9,5.31,5.31,0,0,0,12,6.5,5.46,5.46,0,0,0,6.5,12Z\"/>\n",
              "  </svg>\n",
              "    </button>\n",
              "    <script>\n",
              "      (() => {\n",
              "      const buttonEl =\n",
              "        document.querySelector('#id_74927f3d-3c61-467b-a55b-979f5bc6cefd button.colab-df-generate');\n",
              "      buttonEl.style.display =\n",
              "        google.colab.kernel.accessAllowed ? 'block' : 'none';\n",
              "\n",
              "      buttonEl.onclick = () => {\n",
              "        google.colab.notebook.generateWithVariable('df');\n",
              "      }\n",
              "      })();\n",
              "    </script>\n",
              "  </div>\n",
              "\n",
              "    </div>\n",
              "  </div>\n"
            ],
            "application/vnd.google.colaboratory.intrinsic+json": {
              "type": "dataframe",
              "variable_name": "df",
              "summary": "{\n  \"name\": \"df\",\n  \"rows\": 11682,\n  \"fields\": [\n    {\n      \"column\": \"labels\",\n      \"properties\": {\n        \"dtype\": \"category\",\n        \"num_unique_values\": 14,\n        \"samples\": [\n          \"female_happy\",\n          \"female_sad\",\n          \"male_neutral\"\n        ],\n        \"semantic_type\": \"\",\n        \"description\": \"\"\n      }\n    },\n    {\n      \"column\": \"source\",\n      \"properties\": {\n        \"dtype\": \"category\",\n        \"num_unique_values\": 3,\n        \"samples\": [\n          \"RAVDESS\",\n          \"TESS\",\n          \"CREMA\"\n        ],\n        \"semantic_type\": \"\",\n        \"description\": \"\"\n      }\n    },\n    {\n      \"column\": \"path\",\n      \"properties\": {\n        \"dtype\": \"string\",\n        \"num_unique_values\": 11682,\n        \"samples\": [\n          \"/content/drive/MyDrive/IAR Research Grant/Data/Audio Datasets/CREMA-D/1061_IEO_ANG_LO.wav\",\n          \"/content/drive/MyDrive/IAR Research Grant/Data/Audio Datasets/CREMA-D/1029_IEO_ANG_LO.wav\",\n          \"/content/drive/MyDrive/IAR Research Grant/Data/Audio Datasets/RAVDESS Audio Emotion/Actor_20/03-01-06-01-02-01-20.wav\"\n        ],\n        \"semantic_type\": \"\",\n        \"description\": \"\"\n      }\n    }\n  ]\n}"
            }
          },
          "metadata": {},
          "execution_count": 13
        }
      ]
    }
  ],
  "metadata": {
    "kernelspec": {
      "display_name": "Python 3 (ipykernel)",
      "language": "python",
      "name": "python3"
    },
    "language_info": {
      "codemirror_mode": {
        "name": "ipython",
        "version": 3
      },
      "file_extension": ".py",
      "mimetype": "text/x-python",
      "name": "python",
      "nbconvert_exporter": "python",
      "pygments_lexer": "ipython3",
      "version": "3.9.7"
    },
    "colab": {
      "provenance": []
    }
  },
  "nbformat": 4,
  "nbformat_minor": 0
}